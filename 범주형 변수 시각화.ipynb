{
 "cells": [
  {
   "cell_type": "markdown",
   "id": "6aecc34e",
   "metadata": {},
   "source": [
    "## 범주형 변수 (개별변수 분석: 단변량 분석)"
   ]
  },
  {
   "cell_type": "markdown",
   "id": "2383e234",
   "metadata": {},
   "source": [
    "* 범주형 변수는 범주별 빈도수와 비율을 확인함.\n",
    "\n",
    " - 리스트.count('값')\n",
    "    : 해당 값이 몇 개 있는지 count\n",
    "    \n",
    "    count를 전체개수(len(gender))로 나눠주면 비율이 됨.\n",
    "    \n",
    "    범주가 두세개정도면 아래처럼 계산 가능"
   ]
  },
  {
   "cell_type": "code",
   "execution_count": 1,
   "id": "33635a3d",
   "metadata": {},
   "outputs": [
    {
     "name": "stdout",
     "output_type": "stream",
     "text": [
      "B 5 0.625\n",
      "S 3 0.375\n"
     ]
    }
   ],
   "source": [
    "import matplotlib.pyplot as plt\n",
    "\n",
    "size = ['B', 'S', 'S', 'B', 'B', 'B', 'S', 'B']\n",
    "\n",
    "b_cnt = size.count('B')\n",
    "s_cnt = size.count('S')\n",
    "total_cnt = len(size)\n",
    "\n",
    "print('B', b_cnt, b_cnt/total_cnt)\n",
    "print('S', s_cnt, s_cnt/total_cnt)"
   ]
  },
  {
   "cell_type": "code",
   "execution_count": null,
   "id": "ba161d51",
   "metadata": {},
   "outputs": [],
   "source": [
    "범주가 10개면 "
   ]
  },
  {
   "cell_type": "markdown",
   "id": "0ba623d6",
   "metadata": {},
   "source": [
    "   - pandas의 .value_counts()\n",
    "    : 범주의 개수와 상관없이 범주별 개수 count"
   ]
  },
  {
   "cell_type": "code",
   "execution_count": 3,
   "id": "633450ea",
   "metadata": {},
   "outputs": [
    {
     "name": "stdout",
     "output_type": "stream",
     "text": [
      "B    5\n",
      "S    3\n",
      "dtype: int64\n",
      "B    0.625\n",
      "S    0.375\n",
      "dtype: float64\n"
     ]
    }
   ],
   "source": [
    "import matplotlib.pyplot as plt\n",
    "import pandas as pd\n",
    "\n",
    "size = ['B', 'S', 'S', 'B', 'B', 'B', 'S', 'B']\n",
    "size = pd.Series(size)\n",
    "\n",
    "print(size.value_counts())\n",
    "print(size.value_counts()/len(size))"
   ]
  },
  {
   "cell_type": "markdown",
   "id": "ada530ff",
   "metadata": {},
   "source": [
    "1. DataFrame으로부터 범주형 변수의 수치화\n",
    " - value_counts()를 이용하여 범주별 빈도수와 범주별 비율을 구할 수 있음."
   ]
  },
  {
   "cell_type": "code",
   "execution_count": 4,
   "id": "8545e131",
   "metadata": {},
   "outputs": [
    {
     "name": "stdout",
     "output_type": "stream",
     "text": [
      "3    491\n",
      "1    216\n",
      "2    184\n",
      "Name: Pclass, dtype: int64\n",
      "3    0.551066\n",
      "1    0.242424\n",
      "2    0.206510\n",
      "Name: Pclass, dtype: float64\n"
     ]
    }
   ],
   "source": [
    "# titanic['Pclass'] 해석\n",
    "import pandas as pd\n",
    "\n",
    "titanic = pd.read_csv('https://bit.ly/TitanicFile')\n",
    "\n",
    "print(titanic['Pclass'].value_counts())\n",
    "print(titanic['Pclass'].value_counts()/len(titanic['Pclass']))\n",
    "\n",
    "# 1등급 객실 탑승객 : 24% / 2등급 : 20.7% / 3등급 : 55% 차지"
   ]
  },
  {
   "cell_type": "markdown",
   "id": "c1a5f363",
   "metadata": {},
   "source": [
    "2. 범주형 변수의 시각화\n",
    "\n",
    "1)Bar chart\n",
    "\n",
    "**기본 형식**\n",
    "\n",
    "plt.bar(범주이름, 값) / plt.barh(범주이름, 값)"
   ]
  },
  {
   "cell_type": "code",
   "execution_count": 5,
   "id": "f6394db0",
   "metadata": {},
   "outputs": [
    {
     "data": {
      "image/png": "[encoded data removed]",
      "text/plain": [
       "<Figure size 432x288 with 1 Axes>"
      ]
     },
     "metadata": {
      "needs_background": "light"
     },
     "output_type": "display_data"
    }
   ],
   "source": [
    "import matplotlib.pyplot as plt\n",
    "\n",
    "size = ['B', 'S']\n",
    "cnt = [5, 7]\n",
    "\n",
    "plt.bar(size, cnt)\n",
    "plt.show()"
   ]
  },
  {
   "cell_type": "code",
   "execution_count": 6,
   "id": "f10da6ca",
   "metadata": {},
   "outputs": [
    {
     "data": {
      "image/png": "[encoded data removed]",
      "text/plain": [
       "<Figure size 432x288 with 1 Axes>"
      ]
     },
     "metadata": {
      "needs_background": "light"
     },
     "output_type": "display_data"
    }
   ],
   "source": [
    "import matplotlib.pyplot as plt\n",
    "\n",
    "size = ['B', 'S']\n",
    "cnt = [5, 7]\n",
    "\n",
    "plt.barh(size, cnt)\n",
    "plt.show()"
   ]
  },
  {
   "cell_type": "markdown",
   "id": "c742404e",
   "metadata": {},
   "source": [
    "범주 이름과 값이 필요하므로 집계작업이 선행되어야 함.\n",
    "pandas의 value_counts()를 사용하여 집계\n",
    "집계결과의 index : 범주이름\n",
    "집계결과의 values : 값"
   ]
  },
  {
   "cell_type": "code",
   "execution_count": 7,
   "id": "8f7e0039",
   "metadata": {},
   "outputs": [
    {
     "name": "stdout",
     "output_type": "stream",
     "text": [
      "[5 3]\n",
      "Index(['B', 'S'], dtype='object')\n"
     ]
    },
    {
     "data": {
      "image/png": "[encoded data removed]",
      "text/plain": [
       "<Figure size 432x288 with 1 Axes>"
      ]
     },
     "metadata": {
      "needs_background": "light"
     },
     "output_type": "display_data"
    }
   ],
   "source": [
    "import matplotlib.pyplot as plt\n",
    "import pandas as pd\n",
    "\n",
    "size = ['B', 'S', 'S', 'B', 'B', 'B', 'S', 'B']\n",
    "size = pd.Series(size)\n",
    "\n",
    "cnt = size.value_counts()\n",
    "print(cnt.values)\n",
    "print(cnt.index)\n",
    "\n",
    "plt.bar(cnt.index, cnt.values)\n",
    "plt.show()"
   ]
  },
  {
   "cell_type": "markdown",
   "id": "46558055",
   "metadata": {},
   "source": [
    "Bar chart 꾸미기"
   ]
  },
  {
   "cell_type": "code",
   "execution_count": 9,
   "id": "1378a8b8",
   "metadata": {},
   "outputs": [
    {
     "data": {
      "image/png": "[encoded data removed]",
      "text/plain": [
       "<Figure size 432x288 with 1 Axes>"
      ]
     },
     "metadata": {
      "needs_background": "light"
     },
     "output_type": "display_data"
    }
   ],
   "source": [
    "# bar별 색상 지정\n",
    "\n",
    "import matplotlib.pyplot as plt\n",
    "\n",
    "size = ['B', 'S']\n",
    "cnt = [5, 7]\n",
    "\n",
    "plt.bar(size, cnt, color=['y', 'g'])\n",
    "plt.show()"
   ]
  },
  {
   "cell_type": "code",
   "execution_count": 10,
   "id": "c1a4c964",
   "metadata": {},
   "outputs": [
    {
     "data": {
      "image/png": "[encoded data removed]",
      "text/plain": [
       "<Figure size 432x288 with 1 Axes>"
      ]
     },
     "metadata": {
      "needs_background": "light"
     },
     "output_type": "display_data"
    }
   ],
   "source": [
    "# bar별 폭 지정\n",
    "import matplotlib.pyplot as plt\n",
    "\n",
    "size = ['B', 'S']\n",
    "cnt = [5, 7]\n",
    "\n",
    "plt.bar(size, cnt, color=['y', 'g'], width=.2)\n",
    "plt.show()"
   ]
  },
  {
   "cell_type": "markdown",
   "id": "51a877a9",
   "metadata": {},
   "source": [
    "2) Pie chart\n",
    " - 범주별 비율 비교할 때 파이차트 사용\n",
    " \n",
    "**기본 형식**\n",
    "\n",
    "plt.pie(값, label=범주이름, autopct='%.2ㄹ%%')\n",
    " - autopct : 그래프에 표시할 값 비율에 대한 설정\n",
    " - .2f% :소수점 두 자리 퍼센트로 표기한다는 의미"
   ]
  },
  {
   "cell_type": "code",
   "execution_count": 11,
   "id": "9e8e5d2f",
   "metadata": {},
   "outputs": [
    {
     "data": {
      "image/png": "[encoded data removed]",
      "text/plain": [
       "<Figure size 432x288 with 1 Axes>"
      ]
     },
     "metadata": {},
     "output_type": "display_data"
    }
   ],
   "source": [
    "import matplotlib.pyplot as plt\n",
    "import pandas as pd\n",
    "\n",
    "size = ['B', 'S', 'S', 'B', 'B', 'B', 'S', 'B']\n",
    "size = pd.Series(size)\n",
    "\n",
    "cnt = size.value_counts()\n",
    "\n",
    "plt.pie(cnt.values, labels=cnt.index, autopct='%.2f%%')\n",
    "plt.show()"
   ]
  },
  {
   "cell_type": "markdown",
   "id": "38561b29",
   "metadata": {},
   "source": [
    "Pie chart 꾸미기 ; 각도와 방향 조정\n",
    "startangle=90 : 90도(9시가 0도)부터 시작\n",
    "counterclock=False : 시계 방향"
   ]
  },
  {
   "cell_type": "code",
   "execution_count": 14,
   "id": "4495aef9",
   "metadata": {},
   "outputs": [
    {
     "data": {
      "image/png": "[encoded data removed]",
      "text/plain": [
       "<Figure size 432x288 with 1 Axes>"
      ]
     },
     "metadata": {},
     "output_type": "display_data"
    }
   ],
   "source": [
    "import matplotlib.pyplot as plt\n",
    "import pandas as pd\n",
    "\n",
    "size = ['B', 'S', 'S', 'B', 'B', 'B', 'S', 'B']\n",
    "size = pd.Series(size)\n",
    "\n",
    "cnt = size.value_counts()\n",
    "\n",
    "plt.pie(cnt.values, labels=cnt.index, autopct='%.2f%%', startangle=90, counterclock=False)\n",
    "plt.show()"
   ]
  },
  {
   "cell_type": "markdown",
   "id": "136e84b9",
   "metadata": {},
   "source": [
    "파이차트 꾸미기 ; 간격 띄우고 그림자 넣기\n",
    "\n",
    "explode=[0.05, 0.05] : 중심으로부터 B와 S를 얼마만큼 띄울지\n",
    "shadow=True : 그림자 추가"
   ]
  },
  {
   "cell_type": "code",
   "execution_count": 15,
   "id": "e073b3f2",
   "metadata": {},
   "outputs": [
    {
     "data": {
      "image/png": "[encoded data removed]",
      "text/plain": [
       "<Figure size 432x288 with 1 Axes>"
      ]
     },
     "metadata": {},
     "output_type": "display_data"
    }
   ],
   "source": [
    "import matplotlib.pyplot as plt\n",
    "import pandas as pd\n",
    "\n",
    "size = ['B', 'S', 'S', 'B', 'B', 'B', 'S', 'B']\n",
    "size = pd.Series(size)\n",
    "\n",
    "cnt = size.value_counts()\n",
    "\n",
    "plt.pie(cnt.values, labels=cnt.index, autopct='%.2f%%', startangle=90, counterclock=False, explode=[0.05, 0.05], shadow=True)\n",
    "plt.show()"
   ]
  },
  {
   "cell_type": "code",
   "execution_count": null,
   "id": "f8d6c8ad",
   "metadata": {},
   "outputs": [],
   "source": [
    "데이터프레임으로부터 범주형 변수의 시각화"
   ]
  },
  {
   "cell_type": "code",
   "execution_count": 17,
   "id": "c7e9025f",
   "metadata": {},
   "outputs": [
    {
     "data": {
      "image/png": "[encoded data removed]",
      "text/plain": [
       "<Figure size 432x288 with 2 Axes>"
      ]
     },
     "metadata": {
      "needs_background": "light"
     },
     "output_type": "display_data"
    }
   ],
   "source": [
    "# titanic['Pclass'] 해석\n",
    "import matplotlib.pyplot as plt\n",
    "import pandas as pd\n",
    "\n",
    "titanic = pd.read_csv('https://bit.ly/TitanicFile')\n",
    "\n",
    "cnt = titanic['Pclass'].value_counts()\n",
    "\n",
    "plt.subplot(1,2,1)\n",
    "plt.bar(cnt.index, cnt.values)\n",
    "\n",
    "plt.subplot(1,2,2)\n",
    "plt.pie(cnt.values, labels=cnt.index, autopct='%.2f%%')\n",
    "plt.show()\n",
    "\n",
    "# 수치화(기초통계량)을 통해 파악된 내용과 비교하여 특별한 것은 없음."
   ]
  },
  {
   "cell_type": "markdown",
   "id": "6a751f1d",
   "metadata": {},
   "source": [
    "### 단변량 분석 추가 확인사항\n",
    "개별 변수의 분포로부터\n",
    "\n",
    "값의 범위 확인\n",
    "\n",
    "데이터가 모여있는 구간(범주)와 희박한 구간(범주) 확인\n",
    "\n",
    "이상치 확인\n",
    "\n",
    "결측치 확인 및 조치 방안\n",
    "\n",
    "가변수화, 스케일링 대상 선별"
   ]
  },
  {
   "cell_type": "markdown",
   "id": "cb4c1d21",
   "metadata": {},
   "source": [
    "이상치 (Outlier)\n",
    ": 대부분의 데이터에서 많이 벗어난 값\n",
    "    대부분의 데이터가 가지고 있는 범위, 패턴에서 벗어난 값으로 대부분의 데이터와는 다른 메커니즘으로 발생된 데이터\n",
    "    \n",
    "    기준 (정답은 없으나 일반적인 기준은 아래와 같음)\n",
    "    데이터의 분포가 정규분포에 가깝다면 3* 표준편차 바깥을 이상치로 봄.\n",
    "    박스플롯의 수염 끝 fence 밖의 값들을 이상치로 봄. (정규분포라면 수염의 끝은 대략 3* 표준편차와 비슷해짐)\n",
    "    \n",
    "    모델링에서 이상치를 조치해야하는 알고리즘과 이상치에 영향을 받지 않는 알고리즘이 있음.\n",
    "    모델링에서 이상치 조치는 필수가 아님."
   ]
  },
  {
   "cell_type": "markdown",
   "id": "86896354",
   "metadata": {},
   "source": [
    "결측치 (NaN : Not a Number)\n",
    "NA(Not Available) 라고도 부름.\n",
    "분석(모델링)에서 사용할 수 없는 값을 의미\n",
    "모데링에서 결측치 조치는 필수!\n",
    "\n"
   ]
  },
  {
   "cell_type": "markdown",
   "id": "6c0533bf",
   "metadata": {},
   "source": [
    "결측치 확인하기\n",
    "변수별 결측치 count\n",
    "df.isna().sum() / df.isnull().sum()\n"
   ]
  },
  {
   "cell_type": "markdown",
   "id": "334e5dc4",
   "metadata": {},
   "source": [
    "결측치 시각화\n"
   ]
  },
  {
   "cell_type": "markdown",
   "id": "64ae6e3c",
   "metadata": {},
   "source": [
    "결측치로 인한 오류\n",
    "그래프의 기능에 따라 결측치가 있는 데이터 사용시 오류 발생될 수 있음.\n",
    "이때 NaN을 제외하고 그래프를 그려야함. : .notnull()"
   ]
  },
  {
   "cell_type": "code",
   "execution_count": null,
   "id": "27de7855",
   "metadata": {},
   "outputs": [],
   "source": [
    "결측치 조회하기\n",
    "\n",
    "해결방법\n",
    "삭제\n",
    "채우기"
   ]
  },
  {
   "cell_type": "code",
   "execution_count": null,
   "id": "5888604e",
   "metadata": {},
   "outputs": [],
   "source": []
  },
  {
   "cell_type": "code",
   "execution_count": null,
   "id": "c26e729f",
   "metadata": {},
   "outputs": [],
   "source": []
  },
  {
   "cell_type": "code",
   "execution_count": null,
   "id": "0f3976bf",
   "metadata": {},
   "outputs": [],
   "source": []
  },
  {
   "cell_type": "code",
   "execution_count": null,
   "id": "f4de65b4",
   "metadata": {},
   "outputs": [],
   "source": []
  },
  {
   "cell_type": "code",
   "execution_count": null,
   "id": "54b7d412",
   "metadata": {},
   "outputs": [],
   "source": []
  },
  {
   "cell_type": "code",
   "execution_count": null,
   "id": "6579014a",
   "metadata": {},
   "outputs": [],
   "source": []
  },
  {
   "cell_type": "code",
   "execution_count": null,
   "id": "0d65d1b5",
   "metadata": {},
   "outputs": [],
   "source": []
  },
  {
   "cell_type": "code",
   "execution_count": null,
   "id": "12c520c9",
   "metadata": {},
   "outputs": [],
   "source": []
  },
  {
   "cell_type": "code",
   "execution_count": null,
   "id": "c47074ae",
   "metadata": {},
   "outputs": [],
   "source": []
  }
 ],
 "metadata": {
  "kernelspec": {
   "display_name": "Python 3",
   "language": "python",
   "name": "python3"
  },
  "language_info": {
   "codemirror_mode": {
    "name": "ipython",
    "version": 3
   },
   "file_extension": ".py",
   "mimetype": "text/x-python",
   "name": "python",
   "nbconvert_exporter": "python",
   "pygments_lexer": "ipython3",
   "version": "3.8.8"
  }
 },
 "nbformat": 4,
 "nbformat_minor": 5
}
